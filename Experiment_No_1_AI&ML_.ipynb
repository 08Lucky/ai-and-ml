{
  "nbformat": 4,
  "nbformat_minor": 0,
  "metadata": {
    "colab": {
      "name": "Experiment No.1 AI&ML .ipynb",
      "provenance": [],
      "collapsed_sections": []
    },
    "kernelspec": {
      "name": "python3",
      "display_name": "Python 3"
    },
    "language_info": {
      "name": "python"
    }
  },
  "cells": [
    {
      "cell_type": "markdown",
      "source": [
        "**Name:** Singh Lucky Santosh <br>\n",
        "**Class:** TE-A <br>\n",
        "**Branch:** E&TC <br>\n",
        "**Roll No:** 08 <br> <br>\n",
        "**Experiment No. 1**\n",
        "\n",
        "**Aim:**\n",
        "Compute Estimators of the main statistical measures like Mean, Variance, Standard Deviation, Covariance, Correlation and Standard error with respect to any example. Display graphically the distribution of samples."
      ],
      "metadata": {
        "id": "SswyWwGJ93Ql"
      }
    },
    {
      "cell_type": "code",
      "source": [
        "import pandas as pd\n",
        "import numpy as np\n",
        "import matplotlib.pyplot as plt\n",
        "np.random.seed(5)\n",
        "x = np.random.randint(10,70,10)   \n",
        "y = np.random.randint(20,40,10)\n",
        "x.sort()\n",
        "y.sort()"
      ],
      "metadata": {
        "id": "whxiS2LC_xjU"
      },
      "execution_count": null,
      "outputs": []
    },
    {
      "cell_type": "code",
      "source": [
        "x"
      ],
      "metadata": {
        "colab": {
          "base_uri": "https://localhost:8080/"
        },
        "id": "YkOXA8FO_8on",
        "outputId": "6ec2bb93-fe9e-4271-df01-505d0581f44a"
      },
      "execution_count": null,
      "outputs": [
        {
          "output_type": "execute_result",
          "data": {
            "text/plain": [
              "array([18, 19, 24, 26, 45, 46, 48, 49, 57, 64])"
            ]
          },
          "metadata": {},
          "execution_count": 2
        }
      ]
    },
    {
      "cell_type": "code",
      "source": [
        "y"
      ],
      "metadata": {
        "colab": {
          "base_uri": "https://localhost:8080/"
        },
        "id": "48sT_xZu_-k0",
        "outputId": "160f73ff-f0ed-4efd-bebe-cdb1f36412d1"
      },
      "execution_count": null,
      "outputs": [
        {
          "output_type": "execute_result",
          "data": {
            "text/plain": [
              "array([27, 27, 32, 32, 33, 35, 36, 36, 36, 37])"
            ]
          },
          "metadata": {},
          "execution_count": 3
        }
      ]
    },
    {
      "cell_type": "code",
      "source": [
        "def calc_mean(dataset):\n",
        "    '''\n",
        "    Def : Mean is defined as the arithmetic average of\n",
        "    a population.\n",
        "\n",
        "    Formula : (sum of obesrvations)∕(No. of observations)\n",
        "    '''\n",
        "    return dataset.sum()/len(dataset)"
      ],
      "metadata": {
        "id": "J1ueuxqDAB2P"
      },
      "execution_count": null,
      "outputs": []
    },
    {
      "cell_type": "code",
      "source": [
        "def calc_variance(dataset,mean):\n",
        "    '''\n",
        "    Def : Variance is the degree of variation∕spread\n",
        "    in the dataset.\n",
        "    Formula : 1) Σ((X - X_mean)^2) ∕ n\n",
        "    '''\n",
        "    squared_diff = np.square(dataset-mean)\n",
        "    return calc_mean(squared_diff)"
      ],
      "metadata": {
        "id": "aK0W7hJdAGR4"
      },
      "execution_count": null,
      "outputs": []
    },
    {
      "cell_type": "code",
      "source": [
        "def calc_SD(variance):\n",
        "    '''\n",
        " Def : 1) Standard deviation is the amount of deviation\n",
        " of points around the mean.\n",
        " 2) Variation but in terms of the actual dataset.\n",
        " Formula : √(variance)\n",
        "    '''\n",
        "\n",
        "    return np.sqrt(variance)"
      ],
      "metadata": {
        "id": "WgL_cwCQALQ1"
      },
      "execution_count": null,
      "outputs": []
    },
    {
      "cell_type": "code",
      "source": [
        "def calc_covariance(dataset1,dataset2):\n",
        "    '''\n",
        " Def : Covariance measures the relationship trend\n",
        " between two sets of data.\n",
        " Formula : 1) Σ((X - X_mean)*(Y - Y_mean)) ∕ n\n",
        "    '''\n",
        "\n",
        "    mean1 = calc_mean(dataset1)\n",
        "    mean2 = calc_mean(dataset2)\n",
        "    return np.sum(np.multiply(dataset1-mean1,dataset2-mean2))/len(dataset1)"
      ],
      "metadata": {
        "id": "E419yB2FAPVP"
      },
      "execution_count": null,
      "outputs": []
    },
    {
      "cell_type": "code",
      "source": [
        "def calc_correlation(dataset1,dataset2):\n",
        "    '''\n",
        " Def : Covariance measures the relationship trend\n",
        " between two sets of data.\n",
        " Formula : 1) Σ((X - X_mean)*(Y - Y_mean)) ∕ √(Σ(X - X_mean)^2*Σ(Y - Y_mean)^2)\n",
        " '''\n",
        "    mean1 = calc_mean(dataset1)\n",
        "    mean2 = calc_mean(dataset2)\n",
        "    num = np.sum(np.multiply(dataset1-mean1,dataset2-mean2))\n",
        "    de = np.multiply(np.sum(np.square(dataset1-mean1)),np.sum(np.square(dataset2-mean2)))\n",
        "    return num/np.sqrt(de)"
      ],
      "metadata": {
        "id": "aFq0cWrwAWvP"
      },
      "execution_count": null,
      "outputs": []
    },
    {
      "cell_type": "code",
      "source": [
        "def calc_SE(dataset,sd):\n",
        "    '''\n",
        "    Def : The standard error is a statistical term that\n",
        "    easures the accuracy with which a sample\n",
        "    distribution represents a population by using\n",
        "    standard deviation.\n",
        "    Formula : Standard_deviation ∕ √(n)\n",
        "    '''\n",
        "    return sd/np.sqrt(len(dataset))"
      ],
      "metadata": {
        "id": "Gc6bWCxBAdJZ"
      },
      "execution_count": null,
      "outputs": []
    },
    {
      "cell_type": "code",
      "source": [
        "mean = calc_mean(x)\n",
        "mean2 = calc_mean(y)\n",
        "variance = calc_variance(x,mean)\n",
        "S_D = calc_SD(variance)\n",
        "covariance = calc_covariance(x,y)\n",
        "correlation = calc_correlation(x,y)\n",
        "S_E = calc_SE(x,S_D)\n",
        "\n",
        "print(mean,mean2,variance,S_D,covariance,correlation,S_E)"
      ],
      "metadata": {
        "colab": {
          "base_uri": "https://localhost:8080/"
        },
        "id": "aDztiK1dAfCx",
        "outputId": "9d97381b-ee56-46a7-abfb-5932062fc558"
      },
      "execution_count": null,
      "outputs": [
        {
          "output_type": "stream",
          "name": "stdout",
          "text": [
            "39.6 33.1 244.64000000000001 15.640971836813723 49.84 0.9164339069491503 4.946109582287882\n"
          ]
        }
      ]
    },
    {
      "cell_type": "markdown",
      "source": [
        "# **DataSet**"
      ],
      "metadata": {
        "id": "z2ZO9MDNAlW4"
      }
    },
    {
      "cell_type": "code",
      "source": [
        "plt.plot(x,\"mo:\",label=\"dataset 1\")\n",
        "plt.plot(y,\"go:\",label = \"dataset 2\")\n",
        "plt.legend(loc=\"upper left\")"
      ],
      "metadata": {
        "colab": {
          "base_uri": "https://localhost:8080/",
          "height": 283
        },
        "id": "x4mqBjx8AtXd",
        "outputId": "e9de4c21-f901-4371-915b-b164221b9c91"
      },
      "execution_count": null,
      "outputs": [
        {
          "output_type": "execute_result",
          "data": {
            "text/plain": [
              "<matplotlib.legend.Legend at 0x7f8eac318190>"
            ]
          },
          "metadata": {},
          "execution_count": 11
        },
        {
          "output_type": "display_data",
          "data": {
            "image/png": "[encoded data removed]",
            "text/plain": [
              "<Figure size 432x288 with 1 Axes>"
            ]
          },
          "metadata": {
            "needs_background": "light"
          }
        }
      ]
    },
    {
      "cell_type": "markdown",
      "source": [
        "# **Mean**"
      ],
      "metadata": {
        "id": "cNZDRQ7xAze2"
      }
    },
    {
      "cell_type": "code",
      "source": [
        "plt.plot(x,\"mo:\",label=\"Dataset 1\")\n",
        "plt.axhline(mean,color='b',marker= 'o', linestyle=':',label=\"Mean\")\n",
        "plt.legend(loc=\"upper left\")"
      ],
      "metadata": {
        "colab": {
          "base_uri": "https://localhost:8080/",
          "height": 283
        },
        "id": "-tOIr9WrAxnE",
        "outputId": "27cff859-4a01-4c03-d7db-08dbe04606ff"
      },
      "execution_count": null,
      "outputs": [
        {
          "output_type": "execute_result",
          "data": {
            "text/plain": [
              "<matplotlib.legend.Legend at 0x7f8ea8ba4fd0>"
            ]
          },
          "metadata": {},
          "execution_count": 12
        },
        {
          "output_type": "display_data",
          "data": {
            "image/png": "[encoded data removed]",
            "text/plain": [
              "<Figure size 432x288 with 1 Axes>"
            ]
          },
          "metadata": {
            "needs_background": "light"
          }
        }
      ]
    },
    {
      "cell_type": "code",
      "source": [
        "plt.plot(y,\"ro:\",label=\"Dataset 2\")\n",
        "plt.axhline(mean2,color='g',marker= 'o', linestyle=':',label=\"Mean\")\n",
        "plt.legend(loc=\"upper left\")"
      ],
      "metadata": {
        "colab": {
          "base_uri": "https://localhost:8080/",
          "height": 283
        },
        "id": "o3AF1IUeA8_e",
        "outputId": "00623e9a-5658-44bf-db05-508323c48ae0"
      },
      "execution_count": null,
      "outputs": [
        {
          "output_type": "execute_result",
          "data": {
            "text/plain": [
              "<matplotlib.legend.Legend at 0x7f8ea0b18b90>"
            ]
          },
          "metadata": {},
          "execution_count": 13
        },
        {
          "output_type": "display_data",
          "data": {
            "image/png": "[encoded data removed]",
            "text/plain": [
              "<Figure size 432x288 with 1 Axes>"
            ]
          },
          "metadata": {
            "needs_background": "light"
          }
        }
      ]
    },
    {
      "cell_type": "markdown",
      "source": [
        "# **Correlation**"
      ],
      "metadata": {
        "id": "yrNTjoNRBAkQ"
      }
    },
    {
      "cell_type": "code",
      "source": [
        "corr = np.correlate(x, y, \"same\")\n",
        "plt.plot(list(corr),\"go:\",label = \"Correlation\")"
      ],
      "metadata": {
        "colab": {
          "base_uri": "https://localhost:8080/",
          "height": 285
        },
        "id": "-qbP5kxlBDCJ",
        "outputId": "ee233ff1-6ef2-4456-d976-9163b428263a"
      },
      "execution_count": null,
      "outputs": [
        {
          "output_type": "execute_result",
          "data": {
            "text/plain": [
              "[<matplotlib.lines.Line2D at 0x7f8ea0a9c910>]"
            ]
          },
          "metadata": {},
          "execution_count": 14
        },
        {
          "output_type": "display_data",
          "data": {
            "image/png": "[encoded data removed]",
            "text/plain": [
              "<Figure size 432x288 with 1 Axes>"
            ]
          },
          "metadata": {
            "needs_background": "light"
          }
        }
      ]
    },
    {
      "cell_type": "markdown",
      "source": [
        "# **Variance**"
      ],
      "metadata": {
        "id": "UOo-NZk7BIJF"
      }
    },
    {
      "cell_type": "code",
      "source": [
        "plt.plot(x,\"mo:\",label=\"Dataset 1\")\n",
        "plt.axhline(mean,color='g',marker= 'o', linestyle=':',label=\"Mean\")\n",
        "plt.axhline(variance,color='b',marker= 'o', linestyle=':',label=\"Variance\")\n",
        "plt.legend(loc=\"upper left\")"
      ],
      "metadata": {
        "colab": {
          "base_uri": "https://localhost:8080/",
          "height": 283
        },
        "id": "ESY8Y4-iBLqF",
        "outputId": "cda63369-7052-49e0-9fc9-a8f33d80b4dd"
      },
      "execution_count": null,
      "outputs": [
        {
          "output_type": "execute_result",
          "data": {
            "text/plain": [
              "<matplotlib.legend.Legend at 0x7f8ea0a5d3d0>"
            ]
          },
          "metadata": {},
          "execution_count": 15
        },
        {
          "output_type": "display_data",
          "data": {
            "image/png": "[encoded data removed]",
            "text/plain": [
              "<Figure size 432x288 with 1 Axes>"
            ]
          },
          "metadata": {
            "needs_background": "light"
          }
        }
      ]
    },
    {
      "cell_type": "markdown",
      "source": [
        "# **Covariance**"
      ],
      "metadata": {
        "id": "ZpzXp-wFBPqn"
      }
    },
    {
      "cell_type": "code",
      "source": [
        "plt.plot(y,\"ro:\",label=\"Dataset 2\")\n",
        "plt.plot(x,\"go:\",label=\"Daraset 1\")\n",
        "plt.axhline(covariance,color='b',marker= 'o', linestyle=':',label=\"covariance\")"
      ],
      "metadata": {
        "colab": {
          "base_uri": "https://localhost:8080/",
          "height": 283
        },
        "id": "zk5rubt5BV5v",
        "outputId": "ef2bfd51-4876-4557-c6dc-05ec69808d96"
      },
      "execution_count": null,
      "outputs": [
        {
          "output_type": "execute_result",
          "data": {
            "text/plain": [
              "<matplotlib.lines.Line2D at 0x7f8ea09cb2d0>"
            ]
          },
          "metadata": {},
          "execution_count": 16
        },
        {
          "output_type": "display_data",
          "data": {
            "image/png": "[encoded data removed]",
            "text/plain": [
              "<Figure size 432x288 with 1 Axes>"
            ]
          },
          "metadata": {
            "needs_background": "light"
          }
        }
      ]
    },
    {
      "cell_type": "markdown",
      "source": [
        "**Conclusion:** We have successfully studied and understood the concept and implementation of Mean, Variance, Standard Deviation, Covariance, and Standard Error."
      ],
      "metadata": {
        "id": "PVqaxK7jBZr6"
      }
    }
  ]
}