{
  "nbformat": 4,
  "nbformat_minor": 0,
  "metadata": {
    "colab": {
      "name": "Experiment No. 3 AI&ML .ipynb",
      "provenance": [],
      "collapsed_sections": []
    },
    "kernelspec": {
      "name": "python3",
      "display_name": "Python 3"
    },
    "language_info": {
      "name": "python"
    }
  },
  "cells": [
    {
      "cell_type": "markdown",
      "source": [
        "**Name:** Singh Lucky Santosh <br>\n",
        "**Class:** TE-A <br>\n",
        "**Branch:** E&TC <br>\n",
        "**Roll No:** 08 <br> <br>\n",
        "**Experiment No. 3**\n",
        "\n",
        "**Statement:** Load the dataset: birthwt Risk Factors Associated with Low Infant Birth Weight at https://raw.github.com/neurospin/pystatsml/master/datasets/birthwt.csv\n",
        "\n",
        "1.Test the association of mother’s (bwt) age and birth weight using the correlation test and linear regeression.\n",
        "\n",
        "2.Test the association of mother’s weight (lwt) and birth weight using the correlation testand linear regeression.\n",
        "\n",
        "3.Produce two scatter plot of: (i) age by birth weight; (ii) mother’s weight by birth weight. Elaborate the Conclusion"
      ],
      "metadata": {
        "id": "tPS7gOrwE_mZ"
      }
    },
    {
      "cell_type": "code",
      "source": [
        "import numpy as np\n",
        "import pandas as pd\n",
        "import matplotlib.pyplot as plt\n",
        "from sklearn.linear_model import LinearRegression"
      ],
      "metadata": {
        "id": "_OAOV04PFSHV"
      },
      "execution_count": 1,
      "outputs": []
    },
    {
      "cell_type": "code",
      "source": [
        "df = pd.read_csv(\"/content/birthwt (1).csv\")"
      ],
      "metadata": {
        "id": "PHdCYMEyFYT7"
      },
      "execution_count": 2,
      "outputs": []
    },
    {
      "cell_type": "code",
      "source": [
        "def calc_covariance(dataset1,dataset2):\n",
        "    '''\n",
        " Def : Covariance measures the relationship trend\n",
        " between two sets of data.\n",
        " Formula : 1) Σ((X - X_mean)*(Y - Y_mean)) ∕ n\n",
        "    '''\n",
        "\n",
        "    mean1 = np.mean(dataset1)\n",
        "    mean2 = np.mean(dataset2)\n",
        "    return np.sum(np.multiply(dataset1-mean1,dataset2-mean2))/len(dataset1)"
      ],
      "metadata": {
        "id": "988skj-6Ftqi"
      },
      "execution_count": 3,
      "outputs": []
    },
    {
      "cell_type": "code",
      "source": [
        "def correlation(dataset1,dataset2):\n",
        "    '''\n",
        " Def : Covariance measures the relationship trend between two sets of data.\n",
        " Formula : 1) cov(x,y)/(std(x)*std(y))\n",
        " '''\n",
        "    cov =calc_covariance(dataset1,dataset2)\n",
        "    sd1 = np.std(dataset1)\n",
        "    sd2 = np.std(dataset2)\n",
        "    \n",
        "    return cov/(sd1*sd2)"
      ],
      "metadata": {
        "id": "gqGIbwY9FwW6"
      },
      "execution_count": 4,
      "outputs": []
    },
    {
      "cell_type": "markdown",
      "source": [
        "1. Test the association of mother’s (bwt) age and birth weight using the correlation test and linear regeression. \n",
        "<br>\n",
        "\n",
        "*   Using correlation coefficients test :"
      ],
      "metadata": {
        "id": "FHrc6fPGFzHm"
      }
    },
    {
      "cell_type": "code",
      "source": [
        "# Age of mother\n",
        "age = df[\"age\"]\n",
        "age = age.to_numpy()\n",
        "\n",
        "# Birth weight in grams\n",
        "birthwt = df[\"bwt\"]\n",
        "birthwt = birthwt.to_numpy()"
      ],
      "metadata": {
        "id": "kexGDwj4GVjQ"
      },
      "execution_count": 5,
      "outputs": []
    },
    {
      "cell_type": "code",
      "source": [
        "correlation(age, birthwt)"
      ],
      "metadata": {
        "colab": {
          "base_uri": "https://localhost:8080/"
        },
        "id": "jUmQRYe2GYxu",
        "outputId": "d0b4f003-760b-4672-8233-7cf045ce67e2"
      },
      "execution_count": 6,
      "outputs": [
        {
          "output_type": "execute_result",
          "data": {
            "text/plain": [
              "0.0903178136685326"
            ]
          },
          "metadata": {},
          "execution_count": 6
        }
      ]
    },
    {
      "cell_type": "code",
      "source": [
        "# Converting birth weight from gram to kg for better scaling\n",
        "plt.scatter(age,birthwt/1000,c =\"orange\")\n",
        "plt.xlabel(\"Age\")\n",
        "plt.ylabel(\"Birth weight(Kg)\")"
      ],
      "metadata": {
        "colab": {
          "base_uri": "https://localhost:8080/",
          "height": 297
        },
        "id": "LtG2ltcoGbR6",
        "outputId": "340c18c0-9039-48d5-c31c-a3ac19d314f9"
      },
      "execution_count": 8,
      "outputs": [
        {
          "output_type": "execute_result",
          "data": {
            "text/plain": [
              "Text(0, 0.5, 'Birth weight(Kg)')"
            ]
          },
          "metadata": {},
          "execution_count": 8
        },
        {
          "output_type": "display_data",
          "data": {
            "image/png": "[encoded data removed]",
            "text/plain": [
              "<Figure size 432x288 with 1 Axes>"
            ]
          },
          "metadata": {
            "needs_background": "light"
          }
        }
      ]
    },
    {
      "cell_type": "markdown",
      "source": [
        "**Conclusion**:\n",
        "\n",
        "The corellation value is 0.09 which is very low, this means the correlation is non-existent between the maternal age and birth weight.\n",
        "\n",
        "\n",
        "\n",
        "*   Using simple linear regression :\n",
        "\n"
      ],
      "metadata": {
        "id": "yWp5oq5oGoJW"
      }
    },
    {
      "cell_type": "code",
      "source": [
        "lr = LinearRegression()\n",
        "age = age.reshape(-1,1)\n",
        "lr.fit(age,birthwt)\n"
      ],
      "metadata": {
        "colab": {
          "base_uri": "https://localhost:8080/"
        },
        "id": "B0YyyFVrGvM-",
        "outputId": "88031fa6-b032-47ba-eb59-f5c1a9414c34"
      },
      "execution_count": 9,
      "outputs": [
        {
          "output_type": "execute_result",
          "data": {
            "text/plain": [
              "LinearRegression()"
            ]
          },
          "metadata": {},
          "execution_count": 9
        }
      ]
    },
    {
      "cell_type": "code",
      "source": [
        "y = lr.predict(age)\n",
        "print(\"Coefficients :\",lr.coef_[0])\n",
        "print(\"intercept :\",lr.intercept_)"
      ],
      "metadata": {
        "colab": {
          "base_uri": "https://localhost:8080/"
        },
        "id": "4plen4AbGx7H",
        "outputId": "6ee7655b-6e57-4519-e846-6ca70b7749ca"
      },
      "execution_count": 10,
      "outputs": [
        {
          "output_type": "stream",
          "name": "stdout",
          "text": [
            "Coefficients : 12.429712027714634\n",
            "intercept : 2655.744469705171\n"
          ]
        }
      ]
    },
    {
      "cell_type": "code",
      "source": [
        "plt.plot(age,y,color= \"yellow\")\n",
        "plt.scatter(age,birthwt,c= \"purple\")\n",
        "plt.xlabel(\"Age\")\n",
        "plt.ylabel(\"Birth weight(g)\")\n",
        "plt.show()"
      ],
      "metadata": {
        "colab": {
          "base_uri": "https://localhost:8080/",
          "height": 279
        },
        "id": "vqp1k4N7G0Vv",
        "outputId": "a9e9e368-3a03-4dac-a834-0b8c37d6d00f"
      },
      "execution_count": 13,
      "outputs": [
        {
          "output_type": "display_data",
          "data": {
            "image/png": "[encoded data removed]",
            "text/plain": [
              "<Figure size 432x288 with 1 Axes>"
            ]
          },
          "metadata": {
            "needs_background": "light"
          }
        }
      ]
    },
    {
      "cell_type": "markdown",
      "source": [
        "2. Test the association of mother’s weight (lwt) and birth weight using the correlation testand linear regeression.\n",
        "\n",
        "\n",
        "*  Using correlation coefficients test :\n",
        "\n"
      ],
      "metadata": {
        "id": "6xeY7RBAHDkY"
      }
    },
    {
      "cell_type": "code",
      "source": [
        "# Mother's weight during last menstrual period.(in pounds)\n",
        "motherswt = df[\"lwt\"]\n",
        "motherswt =motherswt.to_numpy()\n",
        "\n",
        "# converting in grams to pounds\n",
        "birthwt = birthwt/454"
      ],
      "metadata": {
        "id": "AButp3S2HBKi"
      },
      "execution_count": 14,
      "outputs": []
    },
    {
      "cell_type": "code",
      "source": [
        "correlation(motherswt,birthwt)"
      ],
      "metadata": {
        "colab": {
          "base_uri": "https://localhost:8080/"
        },
        "id": "CA6ewvsnHL6S",
        "outputId": "7517a661-eb7e-4062-b4fd-9e88a1996ad4"
      },
      "execution_count": 15,
      "outputs": [
        {
          "output_type": "execute_result",
          "data": {
            "text/plain": [
              "0.18573328444909923"
            ]
          },
          "metadata": {},
          "execution_count": 15
        }
      ]
    },
    {
      "cell_type": "code",
      "source": [
        "plt.xlabel(\"Mother's weight\")\n",
        "plt.ylabel(\"Birth weight (Kg)\")\n",
        "plt.scatter(motherswt,birthwt,c = \"red\")"
      ],
      "metadata": {
        "colab": {
          "base_uri": "https://localhost:8080/",
          "height": 297
        },
        "id": "5Xco2dKNHQLB",
        "outputId": "d9e4f058-fc61-4e44-de07-3e1af950ae70"
      },
      "execution_count": 16,
      "outputs": [
        {
          "output_type": "execute_result",
          "data": {
            "text/plain": [
              "<matplotlib.collections.PathCollection at 0x7f82a78edb10>"
            ]
          },
          "metadata": {},
          "execution_count": 16
        },
        {
          "output_type": "display_data",
          "data": {
            "image/png": "[encoded data removed]",
            "text/plain": [
              "<Figure size 432x288 with 1 Axes>"
            ]
          },
          "metadata": {
            "needs_background": "light"
          }
        }
      ]
    },
    {
      "cell_type": "markdown",
      "source": [
        "**Conclusion**:\n",
        "\n",
        "The correlation value is 0.18573328444909923 which is positive correlation, but the value is small which means the correlation is positive and small between the maternal weight and birth weight.\n",
        "\n",
        "\n",
        "\n",
        "*  Using simple linear regression :\n",
        "\n"
      ],
      "metadata": {
        "id": "27EiuwKwHVC3"
      }
    },
    {
      "cell_type": "code",
      "source": [
        "motherswt =motherswt.reshape(-1,1)\n",
        "lr.fit(motherswt,birthwt)"
      ],
      "metadata": {
        "colab": {
          "base_uri": "https://localhost:8080/"
        },
        "id": "91CVzm2uHZ7j",
        "outputId": "2aee5aa1-63e8-4b74-8e4f-ba43104d1d1a"
      },
      "execution_count": 17,
      "outputs": [
        {
          "output_type": "execute_result",
          "data": {
            "text/plain": [
              "LinearRegression()"
            ]
          },
          "metadata": {},
          "execution_count": 17
        }
      ]
    },
    {
      "cell_type": "code",
      "source": [
        "z = lr.predict(motherswt)\n",
        "print(\"Coefficients :\",lr.coef_[0])\n",
        "print(\"intercept :\",lr.intercept_)"
      ],
      "metadata": {
        "colab": {
          "base_uri": "https://localhost:8080/"
        },
        "id": "Iuj7UOxwHfL0",
        "outputId": "86d88ca8-fe14-46a2-fb27-ff82454dbd4c"
      },
      "execution_count": 18,
      "outputs": [
        {
          "output_type": "stream",
          "name": "stdout",
          "text": [
            "Coefficients : 0.009755743626323136\n",
            "intercept : 5.219435061396471\n"
          ]
        }
      ]
    },
    {
      "cell_type": "code",
      "source": [
        "plt.plot(motherswt,z,c=\"orange\")\n",
        "plt.scatter(motherswt,birthwt,c =\"skyblue\")\n",
        "plt.xlabel(\"Mother's weight\")\n",
        "plt.ylabel(\"Birth weight\")\n",
        "plt.show()"
      ],
      "metadata": {
        "colab": {
          "base_uri": "https://localhost:8080/",
          "height": 279
        },
        "id": "i8g5FBVeHi0d",
        "outputId": "2109872f-9388-40cf-b5f6-86468961795d"
      },
      "execution_count": 19,
      "outputs": [
        {
          "output_type": "display_data",
          "data": {
            "image/png": "[encoded data removed]",
            "text/plain": [
              "<Figure size 432x288 with 1 Axes>"
            ]
          },
          "metadata": {
            "needs_background": "light"
          }
        }
      ]
    },
    {
      "cell_type": "markdown",
      "source": [
        ""
      ],
      "metadata": {
        "id": "R-MqA7WaHrF1"
      }
    }
  ]
}