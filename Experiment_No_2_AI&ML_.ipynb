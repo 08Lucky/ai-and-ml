{
  "nbformat": 4,
  "nbformat_minor": 0,
  "metadata": {
    "colab": {
      "name": "Experiment No. 2 AI&ML .ipynb",
      "provenance": [],
      "collapsed_sections": []
    },
    "kernelspec": {
      "name": "python3",
      "display_name": "Python 3"
    },
    "language_info": {
      "name": "python"
    }
  },
  "cells": [
    {
      "cell_type": "markdown",
      "source": [
        "**Name:** Singh Lucky Santosh <br>\n",
        "**Class:** TE-A <br>\n",
        "**Branch:** E&TC <br>\n",
        "**Roll No:** 08 <br> <br>\n",
        "**Experiment No. 2**\n",
        "\n",
        "**Aim:** Plot the Normal Distribution for class test result of a particular subject. Identify the Skewness and Kurtosis."
      ],
      "metadata": {
        "id": "s6XLLYY-Clcx"
      }
    },
    {
      "cell_type": "code",
      "source": [
        "from scipy.stats import skew, kurtosis\n",
        "import matplotlib.pyplot as plt\n",
        "import scipy.stats as stats\n",
        "import pandas as pd\n",
        "import numpy as np"
      ],
      "metadata": {
        "id": "hcrgwknVCtvs"
      },
      "execution_count": null,
      "outputs": []
    },
    {
      "cell_type": "code",
      "source": [
        "df = pd.read_csv(\"/content/score.csv\")\n",
        "x = df['math score']\n",
        "x =x.to_numpy()[:15]\n",
        "x.sort()"
      ],
      "metadata": {
        "id": "KxAy84UeCzIk"
      },
      "execution_count": null,
      "outputs": []
    },
    {
      "cell_type": "code",
      "source": [
        "mean= np.mean(x)\n",
        "sd = np.std(x,ddof =1)\n",
        "median = np.median(x)\n",
        "fit = stats.norm.pdf(x,mean,sd)"
      ],
      "metadata": {
        "id": "FCxl13o1D2L3"
      },
      "execution_count": null,
      "outputs": []
    },
    {
      "cell_type": "code",
      "source": [
        "plt.hist(x, density = True, color =\"yellow\",ec =\"white\")\n",
        "plt.plot(x, fit,\"go:\")\n",
        "plt.title(\"Math Scores\")\n",
        "plt.xlabel(\"Marks\")\n",
        "plt.ylabel(\"Normal Distribution\")\n",
        "plt.show()"
      ],
      "metadata": {
        "colab": {
          "base_uri": "https://localhost:8080/",
          "height": 295
        },
        "id": "OPV1zyYyD5OW",
        "outputId": "131b6533-927a-42fc-8cdd-4e3481a0a19f"
      },
      "execution_count": null,
      "outputs": [
        {
          "output_type": "display_data",
          "data": {
            "image/png": "[encoded data removed]",
            "text/plain": [
              "<Figure size 432x288 with 1 Axes>"
            ]
          },
          "metadata": {
            "needs_background": "light"
          }
        }
      ]
    },
    {
      "cell_type": "markdown",
      "source": [
        "# **Skewness**\n",
        "\n",
        "**Defination:**\n",
        "\n",
        "1.  Skewness measures the shift of the distribution from the normal bell curve\n",
        "2.  Positive skew value denotes right shift whereas negative skew value denotes left shift.\n"
      ],
      "metadata": {
        "id": "j4lE4dcXD_AF"
      }
    },
    {
      "cell_type": "code",
      "source": [
        "def skewness(x,mean,sd):\n",
        "    return np.sum((x-mean)**3)/((len(x)-1)*(sd**3))"
      ],
      "metadata": {
        "id": "ZlEdJIIoD7tA"
      },
      "execution_count": null,
      "outputs": []
    },
    {
      "cell_type": "code",
      "source": [
        "skewness(x,mean,sd)"
      ],
      "metadata": {
        "colab": {
          "base_uri": "https://localhost:8080/"
        },
        "id": "dIT7tpmHETeX",
        "outputId": "627c8ce8-d153-4922-8c0e-c62c3721dbd7"
      },
      "execution_count": null,
      "outputs": [
        {
          "output_type": "execute_result",
          "data": {
            "text/plain": [
              "-0.06988800386918068"
            ]
          },
          "metadata": {},
          "execution_count": 11
        }
      ]
    },
    {
      "cell_type": "markdown",
      "source": [
        "# **Kurtosis**\n",
        "\n",
        "**Defination**:\n",
        "1.  Kurtosis define how thick the tail- ends of distribution, which gives the probability of finding extremes.\n",
        "2.  It is the fourth central movement\n",
        "\n"
      ],
      "metadata": {
        "id": "KfkIhRcsEV3d"
      }
    },
    {
      "cell_type": "code",
      "source": [
        "def kurtosis(x,mean,sd):\n",
        "    return np.sum((x-mean)**4)/((len(x)-1)*(sd**4))"
      ],
      "metadata": {
        "id": "GdF_vrgbEqMm"
      },
      "execution_count": null,
      "outputs": []
    },
    {
      "cell_type": "code",
      "source": [
        "kurtosis(x,mean,sd)"
      ],
      "metadata": {
        "colab": {
          "base_uri": "https://localhost:8080/"
        },
        "id": "Q8woVblKEs31",
        "outputId": "ba1e7fe4-724c-49a1-8c88-0761f8c404d5"
      },
      "execution_count": null,
      "outputs": [
        {
          "output_type": "execute_result",
          "data": {
            "text/plain": [
              "1.7431786122403565"
            ]
          },
          "metadata": {},
          "execution_count": 13
        }
      ]
    }
  ]
}